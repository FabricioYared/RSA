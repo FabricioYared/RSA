{
  "nbformat": 4,
  "nbformat_minor": 0,
  "metadata": {
    "colab": {
      "provenance": []
    },
    "kernelspec": {
      "name": "python3",
      "display_name": "Python 3"
    },
    "language_info": {
      "name": "python"
    }
  },
  "cells": [
    {
      "cell_type": "code",
      "source": [
        "!pip install sympy"
      ],
      "metadata": {
        "colab": {
          "base_uri": "https://localhost:8080/"
        },
        "id": "n8SBimKN19mn",
        "outputId": "a7071658-3969-4832-c7ff-a5ba5d47fe11"
      },
      "execution_count": null,
      "outputs": [
        {
          "output_type": "stream",
          "name": "stdout",
          "text": [
            "Requirement already satisfied: sympy in /usr/local/lib/python3.10/dist-packages (1.12.1)\n",
            "Requirement already satisfied: mpmath<1.4.0,>=1.1.0 in /usr/local/lib/python3.10/dist-packages (from sympy) (1.3.0)\n"
          ]
        }
      ]
    },
    {
      "cell_type": "code",
      "execution_count": null,
      "metadata": {
        "colab": {
          "base_uri": "https://localhost:8080/"
        },
        "id": "h1AQFdw51zgY",
        "outputId": "842580a4-22b1-4caf-f1a4-fb128aa54c48"
      },
      "outputs": [
        {
          "output_type": "stream",
          "name": "stdout",
          "text": [
            "Ciphertext: 195450922908452094693677464772290130220215163389\n",
            "Desencriptar mensaje: Encriptamiento RSA\n"
          ]
        }
      ],
      "source": [
        "import random\n",
        "from sympy import isprime, mod_inverse\n",
        "\n",
        "def generar_primo(bits):\n",
        "    while True:\n",
        "        # Generar un número aleatorio de bits\n",
        "        primo_candidato = random.getrandbits(bits)\n",
        "        # Comprobar si es primo\n",
        "        if isprime(primo_candidato):\n",
        "            return primo_candidato\n",
        "\n",
        "def generar_rsa_keys(bits):\n",
        "    # Elegir dos números primos\n",
        "    p = generar_primo(bits)\n",
        "    q = generar_primo(bits)\n",
        "\n",
        "    # Asegurar que p y q son diferentes\n",
        "    while q == p:\n",
        "        q = generar_primo(bits)\n",
        "\n",
        "    n = p * q\n",
        "    phi = (p - 1) * (q - 1)\n",
        "\n",
        "    # Elegir e, esta es una eleccion comun para e\n",
        "    e = 65537\n",
        "    d = mod_inverse(e, phi)\n",
        "\n",
        "    return (e, n), (d, n)\n",
        "\n",
        "def encriptar_rsa(public_key, plaintext):\n",
        "    e, n = public_key\n",
        "\n",
        "    # Convertir el mensaje a entero\n",
        "    plaintext_int = int.from_bytes(plaintext.encode(), 'big')\n",
        "\n",
        "    # Encriptar el mensaje y retornarlo\n",
        "    ciphertext = pow(plaintext_int, e, n)\n",
        "    return ciphertext\n",
        "\n",
        "def desencriptar_rsa(private_key, ciphertext):\n",
        "    d, n = private_key\n",
        "\n",
        "    # Desencriptar el mensaje y retornarlo\n",
        "    plaintext_int = pow(ciphertext, d, n)\n",
        "    plaintext_bytes = plaintext_int.to_bytes((plaintext_int.bit_length() + 7) // 8, 'big')\n",
        "\n",
        "    # Convertir el mensaje a string\n",
        "    return plaintext_bytes.decode()\n",
        "\n",
        "# Generar RSA keys\n",
        "public_key, private_key = generar_rsa_keys(80)\n",
        "\n",
        "# Ejemplo\n",
        "mensaje = \"Encriptamiento RSA\"\n",
        "ciphertext = encriptar_rsa(public_key, mensaje)\n",
        "print(f\"Ciphertext: {ciphertext}\")\n",
        "\n",
        "decrypted_message = desencriptar_rsa(private_key, ciphertext)\n",
        "print(f\"Desencriptar mensaje: {decrypted_message}\")"
      ]
    },
    {
      "cell_type": "code",
      "source": [
        "d = mod_inverse(3, 40)\n",
        "print(d)"
      ],
      "metadata": {
        "colab": {
          "base_uri": "https://localhost:8080/"
        },
        "id": "dbeIOIPh2Sy0",
        "outputId": "24b17511-73a4-4f79-ed0f-983f1f643fea"
      },
      "execution_count": null,
      "outputs": [
        {
          "output_type": "stream",
          "name": "stdout",
          "text": [
            "27\n"
          ]
        }
      ]
    }
  ]
}